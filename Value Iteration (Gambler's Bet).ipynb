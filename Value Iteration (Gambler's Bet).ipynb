{
 "cells": [
  {
   "cell_type": "code",
   "execution_count": 3,
   "metadata": {
    "collapsed": true
   },
   "outputs": [],
   "source": [
    "import numpy as np"
   ]
  },
  {
   "cell_type": "code",
   "execution_count": 15,
   "metadata": {
    "collapsed": true
   },
   "outputs": [],
   "source": [
    "import matplotlib.pyplot as plt"
   ]
  },
  {
   "cell_type": "code",
   "execution_count": 16,
   "metadata": {
    "collapsed": false
   },
   "outputs": [
    {
     "name": "stdout",
     "output_type": "stream",
     "text": [
      "Populating the interactive namespace from numpy and matplotlib\n"
     ]
    }
   ],
   "source": [
    "%pylab inline"
   ]
  },
  {
   "cell_type": "code",
   "execution_count": 120,
   "metadata": {
    "collapsed": false
   },
   "outputs": [],
   "source": [
    "number_of_non_terminal_states = 99"
   ]
  },
  {
   "cell_type": "code",
   "execution_count": 121,
   "metadata": {
    "collapsed": false
   },
   "outputs": [],
   "source": [
    "total_states = number_of_non_terminal_states+2"
   ]
  },
  {
   "cell_type": "code",
   "execution_count": 122,
   "metadata": {
    "collapsed": false
   },
   "outputs": [],
   "source": [
    "p = 0.4\n",
    "V = np.zeros(total_states)\n",
    "V[-1]=1\n",
    "thetaThreshold = 1e-8; \n",
    "plotIters = [ 1, 2, 3, 32 ]; \n",
    "\n",
    "delta = np.Inf\n",
    "iterCnts = 0 \n",
    "fhs=plt.figure()  \n",
    "plt.grid()\n",
    "pi = np.zeros(total_states)\n",
    "while( delta > thetaThreshold ):\n",
    "    iterCnts=iterCnts+1;\n",
    "    for t in range(1,number_of_non_terminal_states+1):\n",
    "        actions = range(1, min(t, number_of_non_terminal_states+1-t)+1)\n",
    "        #print actions\n",
    "        V[t] = max((1-p)*V[t-a]+ p*V[t+a] for a in actions)\n",
    "        \n",
    "for t in range(1,number_of_non_terminal_states+1):\n",
    "    actions = range(1, min(t, number_of_non_terminal_states+1-t)+1)\n",
    "    pi[t] = actions[np.argmax([(1-p)*V[t-a]+ p*V[t+a] for a in actions])]"
   ]
  },
  {
   "cell_type": "code",
   "execution_count": 123,
   "metadata": {
    "collapsed": false
   },
   "outputs": [
    {
     "data": {
      "text/plain": [
       "[<matplotlib.lines.Line2D at 0x7f7c7956a810>]"
      ]
     },
     "execution_count": 123,
     "metadata": {},
     "output_type": "execute_result"
    },
    {
     "data": {
      "image/png": "[encoded data removed]",
      "text/plain": [
       "<matplotlib.figure.Figure at 0x7f7c797b0f50>"
      ]
     },
     "metadata": {},
     "output_type": "display_data"
    }
   ],
   "source": [
    "plt.plot(pi,)\n",
    "#plt.xticks([1,25, 50, 75, 99])"
   ]
  },
  {
   "cell_type": "code",
   "execution_count": 124,
   "metadata": {
    "collapsed": false
   },
   "outputs": [],
   "source": [
    "plt.plot?"
   ]
  },
  {
   "cell_type": "code",
   "execution_count": null,
   "metadata": {
    "collapsed": true
   },
   "outputs": [],
   "source": []
  }
 ],
 "metadata": {
  "kernelspec": {
   "display_name": "Python 2",
   "language": "python",
   "name": "python2"
  },
  "language_info": {
   "codemirror_mode": {
    "name": "ipython",
    "version": 2
   },
   "file_extension": ".py",
   "mimetype": "text/x-python",
   "name": "python",
   "nbconvert_exporter": "python",
   "pygments_lexer": "ipython2",
   "version": "2.7.10"
  }
 },
 "nbformat": 4,
 "nbformat_minor": 0
}
