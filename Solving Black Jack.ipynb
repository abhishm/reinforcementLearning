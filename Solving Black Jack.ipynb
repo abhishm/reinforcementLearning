{
 "cells": [
  {
   "cell_type": "code",
   "execution_count": 8,
   "metadata": {
    "collapsed": true
   },
   "outputs": [],
   "source": [
    "import numpy as np\n",
    "import matplotlib.pyplot as plt"
   ]
  },
  {
   "cell_type": "code",
   "execution_count": 9,
   "metadata": {
    "collapsed": true
   },
   "outputs": [],
   "source": [
    "from mpl_toolkits.mplot3d import axes3d"
   ]
  },
  {
   "cell_type": "code",
   "execution_count": 10,
   "metadata": {
    "collapsed": false
   },
   "outputs": [
    {
     "name": "stdout",
     "output_type": "stream",
     "text": [
      "Populating the interactive namespace from numpy and matplotlib\n"
     ]
    }
   ],
   "source": [
    "%pylab inline"
   ]
  },
  {
   "cell_type": "code",
   "execution_count": 11,
   "metadata": {
    "collapsed": false
   },
   "outputs": [],
   "source": [
    "N_HANDS_TO_PLAY=7*10**6\n",
    "#--\n",
    "# implement hands of black jack\n",
    "#--\n",
    "policy = np.ones((10,10,2))\n",
    "q_reward = np.zeros((10,10,2,2))\n",
    "q_time = np.zeros((10,10,2,2))\n",
    "q_avg = np.zeros((10,10,2,2))\n",
    "for _ in xrange(N_HANDS_TO_PLAY):  \n",
    "    phv = np.random.randint(12,22)\n",
    "    cardshowing = np.random.randint(1,14)\n",
    "    dhv = np.minimum(cardshowing, 10)\n",
    "    usableAce = np.random.randint(0,2)\n",
    "    #Exploring Starts\n",
    "    action = np.random.randint(0,2)\n",
    "    reward = 0.\n",
    "    state = [phv, dhv, usableAce]\n",
    "    stateActionseen = [state + [action]]\n",
    "    while action:\n",
    "        cardDrawn = np.random.randint(1,14)\n",
    "        cardValue = np.minimum(cardDrawn, 10)\n",
    "        state[0] += cardValue\n",
    "        if state[0] <= 21:\n",
    "            action = policy[state[0]-12, state[1]-1, usableAce]\n",
    "            stateActionseen.append(state + [action])\n",
    "        else:\n",
    "            if state[2] == 1:\n",
    "                state[0] -= 10\n",
    "                state[2] = 0\n",
    "                action = policy[state[0]-12, state[1]-1, state[2]]\n",
    "                stateActionseen.append(state + [action])\n",
    "            else:\n",
    "                reward = -1\n",
    "                break\n",
    "    usableAceDealer = 0\n",
    "    if reward == 0:        \n",
    "        if dhv == 1:\n",
    "            dhv += 10\n",
    "            usableAceDealer = 1\n",
    "        while dhv < 17:\n",
    "            cardDrawn = np.random.randint(1,14)\n",
    "            cardValue = np.minimum(cardDrawn, 10)\n",
    "            if cardValue == 1 and dhv < 11:\n",
    "                cardValue = 11\n",
    "                usableAceDealer = 1\n",
    "            dhv += cardValue\n",
    "            if usableAceDealer == 1 and dhv >= 22:\n",
    "                usableAceDealer = 0\n",
    "                dhv -= 10\n",
    "        reward = determineReward(state[0], dhv)\n",
    "    for stateAction in stateActionseen:\n",
    "        #q_reward[stateAction[0]-12, stateAction[1]-1, stateAction[2], stateAction[3]] += reward\n",
    "        #q_time[stateAction[0]-12, stateAction[1]-1, stateAction[2], stateAction[3]] += 1.\n",
    "        stateUnderConsideration = (stateAction[0]-12, stateAction[1]-1, stateAction[2], stateAction[3])\n",
    "        q_reward[stateUnderConsideration] += reward\n",
    "        q_time[stateUnderConsideration] += 1.\n",
    "        q_avg[stateUnderConsideration] = (q_reward[stateUnderConsideration]/\n",
    "                                          q_time[stateUnderConsideration])\n",
    "        policy[stateUnderConsideration[:-1]] = np.argmax(\n",
    "            q_avg[stateAction[0]-12, stateAction[1]-1, stateAction[2], :])\n",
    "    \n",
    "        #q_avg[np.where(q_time != 0)] = q_reward[np.where(q_time != 0)]/q_time[np.where(q_time != 0)]\n",
    "        #policy = np.argmax(q_avg, axis=3)"
   ]
  },
  {
   "cell_type": "code",
   "execution_count": 12,
   "metadata": {
    "collapsed": false
   },
   "outputs": [
    {
     "data": {
      "image/png": "[encoded data removed]",
      "text/plain": [
       "<matplotlib.figure.Figure at 0x7f8958052b10>"
      ]
     },
     "metadata": {},
     "output_type": "display_data"
    }
   ],
   "source": [
    "figsize(20,7)\n",
    "fig = plt.figure()\n",
    "ax = fig.add_subplot(1,2,1)\n",
    "ax.set_aspect('equal')\n",
    "plt.imshow(policy[:,:,0], interpolation='nearest', cmap=plt.cm.ocean, origin='left')\n",
    "plt.xlabel('Dealer Showing')\n",
    "plt.ylabel('Player Sum')\n",
    "# plt.xticks(range(1,14))\n",
    "# ax.set_yticklabels(range(12,22))\n",
    "#plt.colorbar()\n",
    " \n",
    "ax = fig.add_subplot(1,2,2)\n",
    "ax.set_aspect('equal')\n",
    "plt.imshow(policy[:,:,1], interpolation='nearest', cmap=plt.cm.ocean, origin='left')\n",
    "plt.xlabel('Dealer Showing')\n",
    "plt.ylabel('Player Sum')\n",
    "# plt.xticks(range(1,14))\n",
    "# ax.set_yticklabels(range(12,22))\n",
    "plt.colorbar()\n",
    "plt.show()  "
   ]
  },
  {
   "cell_type": "code",
   "execution_count": 13,
   "metadata": {
    "collapsed": false
   },
   "outputs": [
    {
     "ename": "NameError",
     "evalue": "name 'X' is not defined",
     "output_type": "error",
     "traceback": [
      "\u001b[1;31m---------------------------------------------------------------------------\u001b[0m",
      "\u001b[1;31mNameError\u001b[0m                                 Traceback (most recent call last)",
      "\u001b[1;32m<ipython-input-13-253bcac7dd80>\u001b[0m in \u001b[0;36m<module>\u001b[1;34m()\u001b[0m\n\u001b[1;32m----> 1\u001b[1;33m \u001b[0mX\u001b[0m\u001b[1;33m\u001b[0m\u001b[0m\n\u001b[0m",
      "\u001b[1;31mNameError\u001b[0m: name 'X' is not defined"
     ]
    }
   ],
   "source": [
    "X"
   ]
  },
  {
   "cell_type": "code",
   "execution_count": null,
   "metadata": {
    "collapsed": false
   },
   "outputs": [],
   "source": [
    "mc_value_fn = np.max(q_avg, axis=3)\n",
    "\n",
    "print 'No usable ace'\n",
    "fig = plt.figure()\n",
    "ax = fig.add_subplot(111, projection='3d')\n",
    "X = np.tile(np.arange(1,11), (10,1))\n",
    "Y = np.repeat(np.arange(12, 22).reshape(10,1),10, axis=1) \n",
    "\n",
    "Z = mc_value_fn[:,:,0]\n",
    "ax.plot_surface(X, Y, Z, rstride=1, cstride=1)\n",
    "figsize(20,7)\n",
    "fig = plt.figure()\n",
    "ax = fig.add_subplot(1,1,1)\n",
    "ax.set_aspect('equal')\n",
    "plt.imshow(Z, interpolation='nearest', cmap=plt.cm.ocean, origin='left')\n",
    "plt.colorbar()\n",
    "plt.show()  \n",
    "\n",
    "print 'Usable ace'\n",
    "fig = plt.figure()\n",
    "ax = fig.add_subplot(111, projection='3d')\n",
    "X = np.tile(np.arange(1,11), (10,1))\n",
    "Y = np.repeat(np.arange(12, 22).reshape(10,1),10, axis=1) \n",
    "\n",
    "Z = mc_value_fn[:,:,1]\n",
    "ax.plot_surface(X, Y, Z, rstride=1, cstride=1)\n",
    "figsize(20,7)\n",
    "fig = plt.figure()\n",
    "ax = fig.add_subplot(1,1,1)\n",
    "ax.set_aspect('equal')\n",
    "plt.imshow(Z, interpolation='nearest', cmap=plt.cm.ocean, origin='left')\n",
    "plt.colorbar()\n",
    "plt.show()  \n",
    "#fn=sprintf('state_value_fn_nua_%d_mesh.eps',N_HANDS_TO_PLAY); saveas( gcf, fn, 'eps2' );"
   ]
  },
  {
   "cell_type": "code",
   "execution_count": null,
   "metadata": {
    "collapsed": false
   },
   "outputs": [],
   "source": [
    "Y"
   ]
  },
  {
   "cell_type": "code",
   "execution_count": null,
   "metadata": {
    "collapsed": true
   },
   "outputs": [],
   "source": [
    "print 'No usable ace'\n",
    "fig = plt.figure()\n",
    "ax = fig.add_subplot(111, projection='3d')\n",
    "X = np.tile(np.arange(1,14), (10,1))\n",
    "Y = np.repeat(np.arange(12, 22).reshape(10,1),13, axis=1) \n",
    "\n",
    "Z = mc_value_fn[:,:,0]\n",
    "ax.plot_surface(X, Y, Z, rstride=1, cstride=1)\n",
    "figsize(20,7)\n",
    "fig = plt.figure()\n",
    "ax = fig.add_subplot(1,1,1)\n",
    "ax.set_aspect('equal')\n",
    "plt.imshow(Z, interpolation='nearest', cmap=plt.cm.ocean, origin='left')\n",
    "plt.colorbar()\n",
    "plt.show()  \n",
    "\n",
    "print 'Usable ace'\n",
    "fig = plt.figure()\n",
    "ax = fig.add_subplot(111, projection='3d')\n",
    "X = np.tile(np.arange(1,14), (10,1))\n",
    "Y = np.repeat(np.arange(12, 22).reshape(10,1),13, axis=1) \n",
    "\n",
    "Z = mc_value_fn[:,:,1]\n",
    "ax.plot_surface(X, Y, Z, rstride=1, cstride=1)\n",
    "figsize(20,7)\n",
    "fig = plt.figure()\n",
    "ax = fig.add_subplot(1,1,1)\n",
    "ax.set_aspect('equal')\n",
    "plt.imshow(Z, interpolation='nearest', cmap=plt.cm.ocean, origin='left')\n",
    "plt.colorbar()\n",
    "plt.show()  \n",
    "#fn=sprintf('state_value_fn_nua_%d_mesh.eps',N_HANDS_TO_PLAY); saveas( gcf, fn, 'eps2' );"
   ]
  },
  {
   "cell_type": "code",
   "execution_count": null,
   "metadata": {
    "collapsed": true
   },
   "outputs": [],
   "source": [
    "def determineReward(phv,dhv):\n",
    "    if phv > 21: # player went bust\n",
    "        rew = -1.\n",
    "    elif dhv > 21: # dealer went bust\n",
    "        rew = +1.\n",
    "    elif phv == dhv: # a tie\n",
    "      rew = 0.\n",
    "    elif phv > dhv: # the larger hand wins\n",
    "      rew = +1. \n",
    "    else:\n",
    "      rew = -1.\n",
    "    return rew\n"
   ]
  },
  {
   "cell_type": "code",
   "execution_count": null,
   "metadata": {
    "collapsed": true
   },
   "outputs": [],
   "source": []
  },
  {
   "cell_type": "code",
   "execution_count": null,
   "metadata": {
    "collapsed": true
   },
   "outputs": [],
   "source": []
  }
 ],
 "metadata": {
  "kernelspec": {
   "display_name": "Python 2",
   "language": "python",
   "name": "python2"
  },
  "language_info": {
   "codemirror_mode": {
    "name": "ipython",
    "version": 2
   },
   "file_extension": ".py",
   "mimetype": "text/x-python",
   "name": "python",
   "nbconvert_exporter": "python",
   "pygments_lexer": "ipython2",
   "version": "2.7.10"
  }
 },
 "nbformat": 4,
 "nbformat_minor": 0
}
