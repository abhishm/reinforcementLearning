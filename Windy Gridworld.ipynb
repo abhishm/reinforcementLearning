{
 "cells": [
  {
   "cell_type": "markdown",
   "metadata": {},
   "source": [
    "## Importing modules"
   ]
  },
  {
   "cell_type": "code",
   "execution_count": 1,
   "metadata": {
    "collapsed": false
   },
   "outputs": [
    {
     "name": "stdout",
     "output_type": "stream",
     "text": [
      "Populating the interactive namespace from numpy and matplotlib\n"
     ]
    }
   ],
   "source": [
    "import numpy as np\n",
    "import matplotlib.pyplot as plt\n",
    "%pylab inline"
   ]
  },
  {
   "cell_type": "markdown",
   "metadata": {},
   "source": [
    "#Class for handling winding grid worlds and its variations"
   ]
  },
  {
   "cell_type": "code",
   "execution_count": 2,
   "metadata": {
    "collapsed": true
   },
   "outputs": [],
   "source": [
    "class WindyGridWorld(object):\n",
    "    #initialization\n",
    "    def __init__(self, epsilon, alpha, wind, actions, rowMax, colMax, start, end, updateRule, stepReward, \n",
    "                 stochasticWind):\n",
    "        self.epsilon = epsilon\n",
    "        self.alpha = alpha\n",
    "        self.wind = wind\n",
    "        self.actions = actions\n",
    "        self.rowMax = rowMax\n",
    "        self.colMax = colMax\n",
    "        self.Q = np.zeros((rowMax+1, colMax+1, len(actions)))\n",
    "        self.start = start\n",
    "        self.end = end\n",
    "        self.updateRule = updateRule\n",
    "        self.stepReward = stepReward\n",
    "        self.stochasticWind = stochasticWind\n",
    "    #When states go out of the bound\n",
    "    def clip(self, a, b, maxA, minA, maxB, minB):\n",
    "        return np.maximum(np.minimum(a, maxA), minA), np.maximum(np.minimum(b, maxB), minB)\n",
    "    #Determing the wind speed\n",
    "    def determiningWind(self, s):\n",
    "        if self.stochasticWind:\n",
    "            if self.wind[s[1]]:\n",
    "                return np.random.choice([self.wind[s[1]]-1, self.wind[s[1]], self.wind[s[1]]+1])\n",
    "            else:\n",
    "                return 0\n",
    "        else:\n",
    "            return self.wind[s[1]]\n",
    "            \n",
    "    #Determing the next states\n",
    "    def nextState(self, s, a):\n",
    "        a = self.actions[a]\n",
    "        w = self.determiningWind(s)\n",
    "        new_s = (s[0]+a[0]-w, s[1]+a[1]) \n",
    "        return self.clip(new_s[0], new_s[1], self.rowMax, 0, self.colMax, 0)\n",
    "    #An epsilon greedy policy for next state selection\n",
    "    def epsilonGreedy(self, s):\n",
    "        if self.epsilon < np.random.ranf():\n",
    "            return np.argmax(self.Q[s[0], s[1]])\n",
    "        else:\n",
    "            return np.random.randint(0,len(self.actions)) \n",
    "\n",
    "    # One Episode\n",
    "    def oneEpisode(self):\n",
    "        s = self.start\n",
    "        a = self.epsilonGreedy(s)\n",
    "        newS = self.nextState(s, a)\n",
    "        newA = self.epsilonGreedy(newS)\n",
    "        self.updateQ(s, a, newS, newA)\n",
    "        episodeSteps = 1\n",
    "        while newS != self.end:            \n",
    "            s = newS\n",
    "            a = newA\n",
    "            newS = self.nextState(s, a)\n",
    "            newA = self.epsilonGreedy(newS)\n",
    "            self.updateQ(s, a, newS, newA)\n",
    "            episodeSteps += 1\n",
    "        return episodeSteps\n",
    "    \n",
    "    def updateQ(self, s, a, newS, newA):\n",
    "        if self.updateRule == 'sarsa':\n",
    "            self.Q[s[0], s[1], a] += alpha*(self.stepReward + self.Q[newS[0], newS[1], newA] - \n",
    "                                            self.Q[s[0], s[1], a])\n",
    "        elif self.updateRule == 'Q-learning':\n",
    "            self.Q[s[0], s[1], a] += alpha*(self.stepReward + np.max(self.Q[newS[0], newS[1]]) -\n",
    "                                            self.Q[s[0], s[1], a])\n",
    "    def multiEpisodes(self, n):\n",
    "        t = []\n",
    "        for episodeNumber in range(n):\n",
    "            episodeSteps = self.oneEpisode()\n",
    "            t.extend([episodeNumber]*episodeSteps)\n",
    "        #print t\n",
    "        plt.plot(t, label = self.updateRule)\n",
    "        plt.xlabel('Time steps')\n",
    "        plt.ylabel('Episodes')\n",
    " \n"
   ]
  },
  {
   "cell_type": "markdown",
   "metadata": {},
   "source": [
    "#Winding Grid Word with 4 actions"
   ]
  },
  {
   "cell_type": "code",
   "execution_count": 3,
   "metadata": {
    "collapsed": false
   },
   "outputs": [],
   "source": [
    "# epsilon, alpha, wind, actions, rowMax, colMax, start, end, updateRule, stepReward, stochasticWind\n",
    "epsilon = 0.1\n",
    "alpha = 0.1\n",
    "wind = [0,0,0,1,1,1,2,2,1,0]\n",
    "rowMax = 6\n",
    "colMax = 9\n",
    "start = (3,0)\n",
    "end = (3,7)\n",
    "updateRule = 'sarsa'\n",
    "stepReward = -1\n",
    "stochasticWind = False\n",
    "actions = [(1,0), (-1,0), (0,1), (0,-1)] ##(up, down, right, left)\n",
    "windyGridWorld = WindyGridWorld(epsilon, alpha, wind, actions, rowMax, colMax, start, end, updateRule, \n",
    "                                stepReward, stochasticWind )"
   ]
  },
  {
   "cell_type": "markdown",
   "metadata": {},
   "source": [
    "#Winding Grid Word With Kings move"
   ]
  },
  {
   "cell_type": "code",
   "execution_count": 4,
   "metadata": {
    "collapsed": true
   },
   "outputs": [],
   "source": [
    "# epsilon, alpha, wind, actions, rowMax, colMax, start, end, updateRule, stepReward\n",
    "actionsKing = [(1,0), (-1,0), (0,1), (0,-1), (1,1), (1,-1), (-1,1), (-1,-1)] \n",
    "\"\"\"(up, down, right, left, main_diagonal_up, main_diagonal_down, seondary_diagonal_up, secondary_diagonal_down ) \"\"\"\n",
    "windyGridWorldKingsmove = (\n",
    "    WindyGridWorld(epsilon, alpha, wind, actionsKing, rowMax, colMax, start, end, updateRule, stepReward, \n",
    "                   stochasticWind ))"
   ]
  },
  {
   "cell_type": "markdown",
   "metadata": {},
   "source": [
    "## Kings move with the idle actions"
   ]
  },
  {
   "cell_type": "code",
   "execution_count": 5,
   "metadata": {
    "collapsed": false
   },
   "outputs": [],
   "source": [
    "actionsKingIdle = [(1,0), (-1,0), (0,1), (0,-1), (1,1), (1,-1), (-1,1), (-1,-1), (0,0)] \n",
    "\"\"\"(up, down, right, left, main_diagonal_up, main_diagonal_down, seondary_diagonal_up, \n",
    "secondary_diagonal_down, idle ) \"\"\"\n",
    "windyGridWorldKingsmoveIdle = (\n",
    "    WindyGridWorld(epsilon, alpha, wind, actionsKingIdle, rowMax, colMax, start, end, updateRule, stepReward,\n",
    "                  stochasticWind))"
   ]
  },
  {
   "cell_type": "markdown",
   "metadata": {},
   "source": [
    "## Comparison of three grid words"
   ]
  },
  {
   "cell_type": "code",
   "execution_count": 6,
   "metadata": {
    "collapsed": false
   },
   "outputs": [
    {
     "data": {
      "text/plain": [
       "<matplotlib.legend.Legend at 0x7f1e5f90b910>"
      ]
     },
     "execution_count": 6,
     "metadata": {},
     "output_type": "execute_result"
    },
    {
     "data": {
      "image/png": "[encoded data removed]",
      "text/plain": [
       "<matplotlib.figure.Figure at 0x7f1e5f9bff50>"
      ]
     },
     "metadata": {},
     "output_type": "display_data"
    }
   ],
   "source": [
    "windyGridWorldKingsmoveIdle.multiEpisodes(2000)\n",
    "windyGridWorldKingsmove.multiEpisodes(2000)\n",
    "windyGridWorld.multiEpisodes(2000)\n",
    "plt.legend(['Kings+idle moves', 'Kings moves', 'normal moves'], loc = 'upper left')"
   ]
  },
  {
   "cell_type": "markdown",
   "metadata": {},
   "source": [
    "### From the above graph, we can see that King's move is performing better than both Kings+Idle and normal moves. \n",
    "\n",
    "1. Adding extra 4 moves after the normal moves are reducing the times steps requires for reaching the terminal state.\n",
    "2. Adding one extra move to kings move is not doing any good but doing bad because of the epsilon greedy policy."
   ]
  },
  {
   "cell_type": "markdown",
   "metadata": {},
   "source": [
    "## Stochastic Winds"
   ]
  },
  {
   "cell_type": "code",
   "execution_count": null,
   "metadata": {
    "collapsed": true
   },
   "outputs": [],
   "source": []
  },
  {
   "cell_type": "code",
   "execution_count": 7,
   "metadata": {
    "collapsed": true
   },
   "outputs": [],
   "source": [
    "stochasticWind = True"
   ]
  },
  {
   "cell_type": "code",
   "execution_count": 8,
   "metadata": {
    "collapsed": true
   },
   "outputs": [],
   "source": [
    "windyGridWorld = WindyGridWorld(epsilon, alpha, wind, actions, rowMax, colMax, start, end, updateRule, stepReward,\n",
    "                               stochasticWind)\n",
    "windyGridWorldKingsmove = (\n",
    "    WindyGridWorld(epsilon, alpha, wind, actionsKing, rowMax, colMax, start, end, updateRule, stepReward,\n",
    "                  stochasticWind))\n",
    "windyGridWorldKingsmoveIdle = (\n",
    "    WindyGridWorld(epsilon, alpha, wind, actionsKingIdle, rowMax, colMax, start, end, updateRule, stepReward, \n",
    "                   stochasticWind ))"
   ]
  },
  {
   "cell_type": "code",
   "execution_count": 9,
   "metadata": {
    "collapsed": false
   },
   "outputs": [
    {
     "data": {
      "text/plain": [
       "<matplotlib.legend.Legend at 0x7f1e5f6c3d50>"
      ]
     },
     "execution_count": 9,
     "metadata": {},
     "output_type": "execute_result"
    },
    {
     "data": {
      "image/png": "[encoded data removed]",
      "text/plain": [
       "<matplotlib.figure.Figure at 0x7f1e7c9eac10>"
      ]
     },
     "metadata": {},
     "output_type": "display_data"
    }
   ],
   "source": [
    "windyGridWorldKingsmoveIdle.multiEpisodes(2000)\n",
    "windyGridWorldKingsmove.multiEpisodes(2000)\n",
    "windyGridWorld.multiEpisodes(2000)\n",
    "plt.legend(['Kings+idle moves', 'Kings moves', 'normal moves'], loc = 'upper left')"
   ]
  },
  {
   "cell_type": "code",
   "execution_count": 10,
   "metadata": {
    "collapsed": false
   },
   "outputs": [
    {
     "data": {
      "text/plain": [
       "array([[1, 7, 4, 7, 2, 4, 2, 2, 6, 0],\n",
       "       [2, 0, 0, 3, 0, 2, 3, 4, 4, 4],\n",
       "       [7, 5, 5, 1, 0, 4, 5, 4, 4, 4],\n",
       "       [4, 2, 2, 5, 1, 4, 4, 0, 2, 5],\n",
       "       [6, 4, 4, 1, 4, 4, 0, 0, 5, 3],\n",
       "       [1, 4, 4, 0, 4, 4, 4, 0, 4, 5],\n",
       "       [4, 3, 4, 4, 4, 4, 2, 5, 7, 1]])"
      ]
     },
     "execution_count": 10,
     "metadata": {},
     "output_type": "execute_result"
    }
   ],
   "source": [
    "np.argmax(windyGridWorldKingsmove.Q, axis=2) # down, up, right, left"
   ]
  },
  {
   "cell_type": "code",
   "execution_count": 12,
   "metadata": {
    "collapsed": false
   },
   "outputs": [],
   "source": [
    "class CliffWalking(object):\n",
    "    #initialization\n",
    "    def __init__(self, epsilon, alpha, cliff, actions, rowMax, colMax, start, end, updateRule, stepReward, \n",
    "                 fallingPunishment):\n",
    "        self.epsilon = epsilon\n",
    "        self.alpha = alpha\n",
    "        self.cliff = cliff\n",
    "        self.actions = actions\n",
    "        self.rowMax = rowMax\n",
    "        self.colMax = colMax\n",
    "        self.Q = np.zeros((rowMax+1, colMax+1, len(actions)))\n",
    "        self.start = start\n",
    "        self.end = end\n",
    "        self.updateRule = updateRule\n",
    "        self.stepReward = stepReward\n",
    "        self.fallingPunishment = fallingPunishment\n",
    "    #When states go out of the bound\n",
    "    def clip(self, a, b, maxA, minA, maxB, minB):\n",
    "        return np.maximum(np.minimum(a, maxA), minA), np.maximum(np.minimum(b, maxB), minB)\n",
    "    #Determing the wind speed\n",
    "    def determiningReward(self, s):\n",
    "        if s in self.cliff:\n",
    "            return self.fallingPunishment\n",
    "        else:\n",
    "            return self.stepReward\n",
    "            \n",
    "    #Determing the next states\n",
    "    def nextState(self, s, a):\n",
    "        a = self.actions[a]\n",
    "        new_s = (s[0]+a[0], s[1]+a[1]) \n",
    "        return self.clip(new_s[0], new_s[1], self.rowMax, 0, self.colMax, 0)\n",
    "    #An epsilon greedy policy for next state selection\n",
    "    def epsilonGreedy(self, s):\n",
    "        if self.epsilon < np.random.ranf():\n",
    "            return np.argmax(self.Q[s[0], s[1]])\n",
    "        else:\n",
    "            return np.random.randint(0,len(self.actions)) \n",
    "    # One Episode\n",
    "    def oneEpisode(self):\n",
    "        s = self.start\n",
    "        a = self.epsilonGreedy(s)\n",
    "        newS = self.nextState(s, a)\n",
    "        #print s,a,newS\n",
    "        episodeReward = self.determiningReward(newS)\n",
    "        newA = self.epsilonGreedy(newS)\n",
    "        #print s, a, newS, newA\n",
    "        self.updateQ(s, a, newS, newA)\n",
    "        while newS != self.end and newS not in self.cliff:\n",
    "            s = newS\n",
    "            a = newA\n",
    "            newS = self.nextState(s, a)\n",
    "            newA = self.epsilonGreedy(newS)\n",
    "            #print s, a, newS, newA\n",
    "            self.updateQ(s, a, newS, newA)\n",
    "            episodeReward += self.determiningReward(newS)\n",
    "        return episodeReward\n",
    "    \n",
    "    def updateQ(self, s, a, newS, newA):\n",
    "        if self.updateRule == 'sarsa':\n",
    "            self.Q[s[0], s[1], a] += alpha*(self.determiningReward(newS) + self.Q[newS[0], newS[1], newA] - \n",
    "                                            self.Q[s[0], s[1], a])\n",
    "        elif self.updateRule == 'Q-learning':\n",
    "            self.Q[s[0], s[1], a] += alpha*(self.determiningReward(newS) + np.max(self.Q[newS[0], newS[1]]) -\n",
    "                                            self.Q[s[0], s[1], a])\n",
    "    def multiEpisodes(self, n):\n",
    "        t = []\n",
    "        for episodeNumber in range(n):\n",
    "            episodeReward = self.oneEpisode()\n",
    "            t.append(episodeReward)\n",
    "            #print 'episodeReward', episodeReward\n",
    "        plt.plot(t, label = self.updateRule)\n",
    "        plt.xlabel('Episodes')\n",
    "        plt.ylabel('Reward')\n",
    " \n"
   ]
  },
  {
   "cell_type": "code",
   "execution_count": 13,
   "metadata": {
    "collapsed": true
   },
   "outputs": [],
   "source": [
    "##epsilon, alpha, cliff, actions, rowMax, colMax, start, end, updateRule, stepReward, fallingPunishment\n",
    "epsilon = 0.1\n",
    "alpha = 0.1\n",
    "stepReward = -1\n",
    "actions = [(1,0), (-1,0), (0,1), (0,-1)] ##(up, down, right, left)\n",
    "rowMaxCliff = 3\n",
    "colMaxCliff = 11\n",
    "endCliff = (0, colMaxCliff)\n",
    "startCliff = (0,0)\n",
    "updateRule = 'sarsa'\n",
    "fallingPunishment = -100\n",
    "cliff = zip([0]*(colMaxCliff-1), range(1, colMaxCliff))\n",
    "cliffWalkingSarsa = CliffWalking(epsilon, alpha, cliff, actions, rowMaxCliff, colMaxCliff, \n",
    "                            startCliff, endCliff, 'sarsa', stepReward, fallingPunishment)\n",
    "cliffWalkingQ = CliffWalking(epsilon, alpha, cliff, actions, rowMaxCliff, colMaxCliff, \n",
    "                            startCliff, endCliff, 'Q-learning', stepReward, fallingPunishment)"
   ]
  },
  {
   "cell_type": "code",
   "execution_count": 16,
   "metadata": {
    "collapsed": false
   },
   "outputs": [
    {
     "data": {
      "image/png": "[encoded data removed]",
      "text/plain": [
       "<matplotlib.figure.Figure at 0x7f1e5f89bc50>"
      ]
     },
     "metadata": {},
     "output_type": "display_data"
    }
   ],
   "source": [
    "cliffWalkingSarsa.multiEpisodes(3000)\n",
    "cliffWalkingQ.multiEpisodes(3000)"
   ]
  },
  {
   "cell_type": "code",
   "execution_count": 19,
   "metadata": {
    "collapsed": false
   },
   "outputs": [
    {
     "name": "stdout",
     "output_type": "stream",
     "text": [
      " path of Sarsa\n",
      "[[0 0 0 0 0 0 0 0 0 0 0 0]\n",
      " [0 0 0 2 0 0 2 2 0 0 2 1]\n",
      " [2 2 2 2 2 2 2 2 2 2 2 1]\n",
      " [2 2 2 2 2 2 2 2 2 2 2 1]]\n",
      "path of Q-learning\n",
      "[[0 0 0 0 0 0 0 0 0 0 0 0]\n",
      " [2 2 2 2 2 2 2 2 2 2 2 1]\n",
      " [2 2 2 2 2 2 1 2 2 1 1 1]\n",
      " [0 0 2 3 2 2 1 2 2 2 2 1]]\n",
      "Actions [(1, 0), (-1, 0), (0, 1), (0, -1)]\n"
     ]
    }
   ],
   "source": [
    "print 'path of Sarsa\\n', cliffWalkingSarsa.Q.argmax(axis=2)\n",
    "print 'path of Q-learning\\n', cliffWalkingQ.Q.argmax(axis=2)\n",
    "print 'Actions', actions"
   ]
  },
  {
   "cell_type": "markdown",
   "metadata": {},
   "source": [
    "Q. Why does Q-learning take optimal routes and SARSA take safer route?"
   ]
  }
 ],
 "metadata": {
  "kernelspec": {
   "display_name": "Python 2",
   "language": "python",
   "name": "python2"
  },
  "language_info": {
   "codemirror_mode": {
    "name": "ipython",
    "version": 2
   },
   "file_extension": ".py",
   "mimetype": "text/x-python",
   "name": "python",
   "nbconvert_exporter": "python",
   "pygments_lexer": "ipython2",
   "version": "2.7.10"
  }
 },
 "nbformat": 4,
 "nbformat_minor": 0
}
