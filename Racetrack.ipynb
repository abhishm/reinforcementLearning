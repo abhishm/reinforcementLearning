{
 "cells": [
  {
   "cell_type": "markdown",
   "metadata": {},
   "source": [
    "1. Our goal is to drive a race car around a turn.\n",
    "2. We need to go as fast as possible.\n",
    "3. The car could be at one of the discrete set of grid positions.\n",
    "4. The velocity is also discrete. \n",
    "5. **Velocity = Number of grid cells moved horizantally and vertically**\n",
    "6. Both horizantal and vertical velocity are restriceted to be greter than -1, less than 5, and cannot be zero simultaneously.\n",
    "7. Each episode begins in one of the randomly selected starts state and ends when car crosses the finish line.\n",
    "8. The reward is -1 for each step.\n",
    "9. The reaward is -5 for driving off the road. \n",
    "10. Driving off the road is not allowed but the position is always advanced by at least one cell along either the horizontal or vertical direction.\n",
    "11. *With these restrictions and considering only right turns all episodes are guaranteed to terminate, yet the optimal policy is unlikely to be excluded.*\n",
    "12. **Making the problem more challenging:** We assume that on half of the time steps the positions is displaced forward or to the right by one additional cell beyond that specified by the velocity."
   ]
  },
  {
   "cell_type": "markdown",
   "metadata": {},
   "source": [
    "### Creating a race track"
   ]
  },
  {
   "cell_type": "markdown",
   "metadata": {},
   "source": [
    "*Creating a simple L shaped Track*"
   ]
  },
  {
   "cell_type": "code",
   "execution_count": 18,
   "metadata": {
    "collapsed": true
   },
   "outputs": [],
   "source": [
    "bigSquareGrid = set((x,y) for x in range(20) for y in range(20))\n",
    "smallSquareGrid = set((x,y) for x in range(10,20) for y in range(10))\n",
    "raceTrack = bigSquareGrid - smallSquareGrid\n",
    "forbiddenTrack = set([(0,y) for y in range(20)] + \n",
    "                     [(x, 19) for x in range(20)] +\n",
    "                     [(x,10) for x in range(10, 20)] +\n",
    "                     [(10,y) for y in range(10)])  \n",
    "permissibleTrack = raceTrack - forbiddenTrack"
   ]
  },
  {
   "cell_type": "code",
   "execution_count": 20,
   "metadata": {
    "collapsed": true
   },
   "outputs": [],
   "source": [
    "import numpy as np"
   ]
  },
  {
   "cell_type": "code",
   "execution_count": 23,
   "metadata": {
    "collapsed": false
   },
   "outputs": [],
   "source": [
    "qValue = np.zeros((20, 20, 9, 9, 3,3))\n",
    "qNumber = np.zeros((20, 20, 9, 9, 3,3))\n",
    "qAvg = np.zeros((20, 20, 9, 9, 3,3))\n",
    "policy = np.zeros((20, 20, 9, 9, 2))"
   ]
  },
  {
   "cell_type": "code",
   "execution_count": null,
   "metadata": {
    "collapsed": true
   },
   "outputs": [],
   "source": [
    "def reward(state, action):\n",
    "    newPosX = state[0] + state[2] + action[0] \n",
    "    newPosY = state[1] + state[3] + action[1]\n",
    "    if newPosX < 0 and newPosY < 0:\n",
    "        return "
   ]
  }
 ],
 "metadata": {
  "kernelspec": {
   "display_name": "Python 2",
   "language": "python",
   "name": "python2"
  },
  "language_info": {
   "codemirror_mode": {
    "name": "ipython",
    "version": 2
   },
   "file_extension": ".py",
   "mimetype": "text/x-python",
   "name": "python",
   "nbconvert_exporter": "python",
   "pygments_lexer": "ipython2",
   "version": "2.7.10"
  }
 },
 "nbformat": 4,
 "nbformat_minor": 0
}
